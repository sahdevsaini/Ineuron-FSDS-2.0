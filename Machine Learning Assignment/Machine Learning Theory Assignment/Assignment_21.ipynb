{
 "cells": [
  {
   "cell_type": "markdown",
   "id": "b2aa57f2",
   "metadata": {},
   "source": [
    "# ---------------------- Assignment 21 -------------------------"
   ]
  },
  {
   "cell_type": "markdown",
   "id": "111120c6",
   "metadata": {},
   "source": [
    "### Q1. What is the estimated depth of a Decision Tree trained (unrestricted) on a one million instance training set ?"
   ]
  },
  {
   "cell_type": "markdown",
   "id": "194ddc2b-4c3b-4151-b9d6-6c6335881d9b",
   "metadata": {},
   "source": [
    "**Ans:** "
   ]
  },
  {
   "cell_type": "markdown",
   "id": "4ae857d4",
   "metadata": {},
   "source": [
    "```python\n",
    "The depth of a well-balanced binary tree containing m leaves is equal to log2(m)³, rounded up. A binary Decision Tree (one that makes only binary decisions, as is the case of all trees in Scikit-Learn) will end up more or less well balanced at the end of training, with one leaf per training instance if it is trained without restrictions. Thus, if the training set contains one million instances, the Decision Tree will have a depth of log2(10⁶) ≈ 20 (actually a bit more since the tree will generally not be perfectly well balanced).\n",
    "```"
   ]
  },
  {
   "cell_type": "markdown",
   "id": "f098ce11-bfd7-4092-91a5-08d6015f1836",
   "metadata": {},
   "source": [
    "### Q2. Is the Gini impurity of a node usually lower or higher than that of its parent? Is it always lower/greater, or is it usually lower/greater ?"
   ]
  },
  {
   "cell_type": "markdown",
   "id": "53690d2c-76c3-44fc-afef-88eb3af16dbc",
   "metadata": {},
   "source": [
    "**Ans:** \n",
    "```python\n",
    "A node’s Gini impurity is generally lower than its parent’s. This is ensured by the CART training algorithm’s cost function, which splits each node in a way that minimizes the weighted sum of its children’s Gini impurities. However, if one child is smaller than the other, it is possible for it to have a higher Gini impurity than its parent, as long as this increase is more than compensated for by a decrease of the other child’s impurity. For example, consider a node containing four instances of class A and 1 of class B. Its Gini impurity is 1 − (1/5)² − (4/5)² = 0.32.\n",
    "Now suppose the dataset is one-dimensional and the instances are lined up in the following order: A, B, A, A, A. You can verify that the algorithm will split this node after the second instance, producing one child node with instances A, B, and the other child node with instances A, A, A. The first child node’s Gini impurity is 1 − (1/2)²− (1/2)² = 0.5, which is higher than its parent. This is compensated for by the fact that the other node is pure, so the overall weighted Gini impurity is 2/5 × 0.5 + 3/5 × 0 = 0.2, which is lower than the parent’s Gini impurity.\n",
    "```"
   ]
  },
  {
   "cell_type": "markdown",
   "id": "c981ac1e",
   "metadata": {},
   "source": [
    "### Q3. Explain if its a good idea to reduce max depth if a Decision Tree is overfitting the training set ?"
   ]
  },
  {
   "cell_type": "markdown",
   "id": "c9f1ccde-0364-4ab7-abae-8d75477f3289",
   "metadata": {},
   "source": [
    "**Ans:** \n",
    "```python\n",
    "If a Decision Tree is overfitting the training set, it may be a good idea to decrease max depth, since this will constrain the model, regularizing it.\n",
    "```"
   ]
  },
  {
   "cell_type": "markdown",
   "id": "07ab2a64",
   "metadata": {},
   "source": [
    "### Q4. Explain if its a  good idea to try scaling the input features if a Decision Tree underfits the training set ?"
   ]
  },
  {
   "cell_type": "markdown",
   "id": "300c5388-08be-48e4-aa9d-a001f37a3fb8",
   "metadata": {},
   "source": [
    "**Ans:** \n",
    "```python\n",
    "Decision Trees don’t care whether or not the training data is scaled or centered; that’s one of the nice things about them. So if a Decision Tree underfits the training set, scaling the input features will just be a waste of time.\n",
    "```"
   ]
  },
  {
   "cell_type": "markdown",
   "id": "0be2162e",
   "metadata": {},
   "source": [
    "### Q5. How much time will it take to train another Decision Tree on a training set of 10 million instances if it takes an hour to train a Decision Tree on a training set with 1 million instances ?"
   ]
  },
  {
   "cell_type": "markdown",
   "id": "c3fddc72-61b9-4b00-a7dc-a6c0351b0d1e",
   "metadata": {},
   "source": [
    "**Ans:** \n",
    "```python\n",
    "The computational complexity of training a Decision Tree is O(n × m log(m)). So if you multiply the training set size by 10, the training time will be multiplied by K = (n × 10m × log(10m)) / (n × m × log(m)) = 10 × log(10m) / log(m). If m = 10⁶, then K ≈ 11.7, so you can expect the training time to be roughly 11.7 hours.\n",
    "```"
   ]
  },
  {
   "cell_type": "markdown",
   "id": "a96163dd",
   "metadata": {},
   "source": [
    "### Q6. Will setting presort=True speed up training if your training set has 100,000 instances ?"
   ]
  },
  {
   "cell_type": "markdown",
   "id": "941c400b-93b6-49e8-b18d-1c690e1b47a6",
   "metadata": {},
   "source": [
    "**Ans:** \n",
    "```python\n",
    "Presorting the training set speeds up training only if the dataset is smaller than a few thousand instances. If it contains 100,000 instances, setting presort=True will considerably slow down the training.\n",
    "```"
   ]
  },
  {
   "cell_type": "markdown",
   "id": "c6298523-6121-484d-bdec-cb173b3c05af",
   "metadata": {},
   "source": [
    "### Q7. Follow these steps to train and fine-tune a Decision Tree for the moons dataset:"
   ]
  },
  {
   "cell_type": "markdown",
   "id": "6b3b649e",
   "metadata": {},
   "source": [
    "**Ans:**\n",
    "```python\n",
    "a. To build a moons dataset, use make moons(n samples=10000, noise=0.4).\n",
    "\n",
    "b. Divide the dataset into a training and a test collection with train test split().\n",
    "\n",
    "c. To find good hyperparameters values for a DecisionTreeClassifier, use grid search with cross-\n",
    "validation (with the GridSearchCV class). Try different values for max leaf nodes.\n",
    "\n",
    "d. Use these hyperparameters to train the model on the entire training set, and then assess its\n",
    "output on the test set. You can achieve an accuracy of 85 to 87 percent.\n",
    "```"
   ]
  },
  {
   "cell_type": "markdown",
   "id": "6a44d46c-9177-4b8d-8916-bfd973d89d14",
   "metadata": {},
   "source": [
    "### Q8. Follow these steps to grow a forest:"
   ]
  },
  {
   "cell_type": "markdown",
   "id": "54020cf8",
   "metadata": {},
   "source": [
    "\n",
    "**Ans:** \n",
    "- **Generate Subsets:** Using the ShuffleSplit class from Scikit-Learn, create 1,000 subsets of the training set. Each subset should contain 100 instances chosen randomly.<br>\n",
    "- **Train Decision Trees:** Train one Decision Tree on each subset using the best hyperparameter values found previously. These Decision Trees are expected to perform worse than the initial Decision Tree, achieving around 80% accuracy due to being trained on smaller sets.<br>\n",
    "- **Aggregate Predictions:** For each test set case, create predictions using all 1,000 Decision Trees. Then, select the most common prediction using SciPy's mode() function. This process results in majority-vote predictions.<br>\n",
    "- **Evaluate Predictions:** Evaluate the majority-vote predictions on the test set. You should observe a slightly higher accuracy compared to the initial model, typically around 0.5 to 1.5 percent higher. This indicates the successful creation of a Random Forest classifier."
   ]
  }
 ],
 "metadata": {
  "kernelspec": {
   "display_name": "Python 3 (ipykernel)",
   "language": "python",
   "name": "python3"
  },
  "language_info": {
   "codemirror_mode": {
    "name": "ipython",
    "version": 3
   },
   "file_extension": ".py",
   "mimetype": "text/x-python",
   "name": "python",
   "nbconvert_exporter": "python",
   "pygments_lexer": "ipython3",
   "version": "3.10.8"
  },
  "vscode": {
   "interpreter": {
    "hash": "26de051ba29f2982a8de78e945f0abaf191376122a1563185a90213a26c5da77"
   }
  }
 },
 "nbformat": 4,
 "nbformat_minor": 5
}
