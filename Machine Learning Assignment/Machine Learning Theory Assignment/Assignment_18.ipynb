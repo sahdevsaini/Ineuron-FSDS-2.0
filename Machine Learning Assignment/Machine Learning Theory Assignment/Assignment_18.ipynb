{
 "cells": [
  {
   "cell_type": "markdown",
   "id": "b2aa57f2",
   "metadata": {},
   "source": [
    "# ------------------------ Assignment 18 ------------------------------"
   ]
  },
  {
   "cell_type": "markdown",
   "id": "111120c6",
   "metadata": {},
   "source": [
    "### Q1. What is the difference between supervised and unsupervised learning? Give some examples to illustrate your point ?"
   ]
  },
  {
   "cell_type": "markdown",
   "id": "af0b6fe4",
   "metadata": {},
   "source": [
    "**Ans:** The main distinction between the two approaches is the use of labeled datasets. To put it simply, supervised learning uses labeled input and output data, while an unsupervised learning algorithm does not. Unsupervised learning models,  in contrast, work on their own to discover the inherent structure of unlabeled data.\n",
    "\n",
    "In Supervised learning, you train the machine using data which is well “labeled.” Unsupervised learning is a machine learning technique, where you do not need to supervise the model. For example, Baby can identify other dogs based on past supervised learning.\n",
    "\n",
    "| Aspect                | Supervised Learning                                             | Unsupervised Learning                                            |\n",
    "|-----------------------|-----------------------------------------------------------------|-------------------------------------------------------------------|\n",
    "| Definition            | A type of machine learning where the model is trained on labeled data, with input-output pairs. | A type of machine learning where the model is trained on unlabeled data, without explicit output labels. |\n",
    "| Input Data            | Requires labeled data, where each input is associated with a corresponding output. | Works with unlabeled data, where inputs are provided without corresponding outputs. |\n",
    "| Objective             | The primary objective is to learn a mapping from inputs to outputs, aiming to predict outputs for new inputs accurately. | The primary objective is to discover patterns, structures, or relationships within the data. |\n",
    "| Training Process      | The model is trained using algorithms that minimize the difference between predicted and actual outputs. | The model is trained using algorithms that seek to find inherent structures or groupings in the data. |\n",
    "| Feedback              | Feedback is provided during training, allowing the model to adjust its parameters based on the error between predicted and actual outputs. | No explicit feedback is provided, as there are no labeled outputs to compare predictions against. |\n",
    "| Examples              | Examples include classification, regression, and object detection tasks. | Examples include clustering, dimensionality reduction, and anomaly detection tasks. |\n",
    "| Use Cases             | Commonly used in scenarios where historical data with known outcomes is available, such as in predicting customer churn, spam detection, etc. | Commonly used in exploratory data analysis, customer segmentation, and identifying patterns in unstructured data like text or images. |\n",
    "| Performance Evaluation| Performance is typically evaluated using metrics such as accuracy, precision, recall, or F1 score. | Performance evaluation can be more subjective and context-dependent, often requiring domain expertise to interpret the results. |\n"
   ]
  },
  {
   "cell_type": "markdown",
   "id": "4ae857d4",
   "metadata": {},
   "source": [
    "### Q2. Mention a few unsupervised learning applications ?"
   ]
  },
  {
   "cell_type": "markdown",
   "id": "0e4d7be2",
   "metadata": {},
   "source": [
    "**Ans:** The main applications of unsupervised learning include:-\n",
    "- clustering \n",
    "- visualization\n",
    "- dimensionality reduction\n",
    "- finding association rules\n",
    "- anomaly detection."
   ]
  },
  {
   "cell_type": "markdown",
   "id": "c981ac1e",
   "metadata": {},
   "source": [
    "### Q3. What are the three main types of clustering methods? Briefly describe the characteristics of each ?"
   ]
  },
  {
   "cell_type": "markdown",
   "id": "a2abf909",
   "metadata": {},
   "source": [
    "**Ans:** The various types of clustering are:\n",
    "- **Connectivity-based Clustering (Hierarchical clustering):** Hierarchical Clustering is a method of unsupervised machine learning clustering where it begins with a pre-defined top to bottom hierarchy of clusters. It then proceeds to perform a decomposition of the data objects based on this hierarchy, hence obtaining the clusters. This method  follows two approaches based on the direction of progress, i.e., whether it is the top-down or bottom-up flow of creating clusters.\n",
    "          \n",
    "          \n",
    "- **Centroids-based Clustering (Partitioning methods):** Centroid based clustering is considered as one of the most simplest clustering algorithms, yet the most effective way of creating clusters and assigning data points to it. The intuition behind centroid based clustering is that a cluster is characterized and represented by a central vector and data points that are in close proximity to these vectors are assigned to the respective clusters.  \n",
    "      \n",
    "      \n",
    "- **Density-based Clustering (Model-based methods):** If one looks into the previous two methods that we discussed, one would observe that both hierarchical and centroid based algorithms are dependent on a distance (similarity/proximity)  metric. The very definition of a cluster is based on this metric. Density-based clustering methods take density into consideration  instead of distances. Clusters are considered as the densest region in a data space, which is separated by regions of lower object density and it is defined as a maximal-set of connected points.\n",
    "    \n",
    "    \n",
    "- **Distribution-based Clustering:** Until now, the clustering techniques as we know are based around either proximity (similarity/distance) or composition (density). There is a family of clustering algorithms that take a totally different metric into consideration – probability. Distribution-based clustering creates and groups data points   based on their likely hood of belonging to the same probability distribution (Gaussian, Binomial etc.) in the data.\n",
    "       \n",
    "       \n",
    "- **Fuzzy Clustering:** The general idea about clustering revolves around assigning data points to mutually exclusive  clusters, meaning, a data point always resides uniquely inside a cluster and it cannot belong to more than one cluster. Fuzzy clustering methods change this paradigm by assigning a data-point to multiple clusters with a quantified degree of belongingness metric. The data-points that are in proximity to the center of a cluster, may  also belong in the cluster that is at a higher degree than points in the edge of a cluster. The possibility of which  an element belongs to a given cluster is measured by membership coefficient that vary from 0 to 1."
   ]
  },
  {
   "cell_type": "markdown",
   "id": "07ab2a64",
   "metadata": {},
   "source": [
    "### Q4. Explain how the k-means algorithm determines the consistency of clustering ?"
   ]
  },
  {
   "cell_type": "markdown",
   "id": "14fbf5a9",
   "metadata": {},
   "source": [
    "**Ans:** \n",
    "```python\n",
    "The k-means algorithm determines the consistency of clustering by iteratively updating cluster centroids and assigning data points to the nearest centroid until convergence. Here's how the algorithm works and how it assesses the consistency of clustering:\n",
    "\n",
    "Initialization: The algorithm starts by randomly selecting k centroids, where k is the number of clusters specified by the user.\n",
    "Assignment Step: Each data point is assigned to the nearest centroid based on a distance metric, commonly the Euclidean distance. This step forms initial clusters.\n",
    "Update Step: The centroids of the clusters are updated by taking the mean of all the data points assigned to each cluster.\n",
    "Convergence: Steps 2 and 3 are repeated iteratively until either the centroids no longer change significantly or a maximum number of iterations is reached. This signals convergence.\n",
    "Now, to determine the consistency of clustering, we look at two aspects:\n",
    "\n",
    "Within-cluster variation (WCSS): This metric measures the sum of squared distances between each data point and its assigned centroid within a cluster. Lower WCSS indicates tighter clusters, which often implies better consistency.\n",
    "Between-cluster variation: This refers to the distance between centroids of different clusters. Larger distances typically indicate better separation between clusters and thus more consistent clustering.\n",
    "The k-means algorithm aims to minimize WCSS by iteratively adjusting cluster assignments and centroids. A lower WCSS suggests that data points within the same cluster are closer to each other, indicating more consistent clustering.\n",
    "\n",
    "However, k-means does not guarantee finding the globally optimal solution, and the quality of clustering can be sensitive to the initial placement of centroids. Therefore, it's common to run the algorithm multiple times with different initializations and choose the clustering with the lowest WCSS.\n",
    "\n",
    "In summary, the consistency of clustering in the k-means algorithm is assessed based on minimizing the within-cluster variation and maximizing the between-cluster variation, resulting in tight and well-separated clusters.\n",
    "```"
   ]
  },
  {
   "cell_type": "markdown",
   "id": "0be2162e",
   "metadata": {},
   "source": [
    "### Q5. With a simple illustration, explain the key difference between the k-means and k-medoids algorithms ?"
   ]
  },
  {
   "cell_type": "markdown",
   "id": "59735150",
   "metadata": {},
   "source": [
    "**Ans:** K-means attempts to minimize the total squared error, while k-medoids minimizes the sum of dissimilarities between points labeled to be in a cluster and a point designated as the center of that cluster. In contrast to the k -means algorithm, k -medoids chooses datapoints as centers ( medoids or exemplars)."
   ]
  },
  {
   "cell_type": "markdown",
   "id": "a96163dd",
   "metadata": {},
   "source": [
    "### Q6. What is a dendrogram, and how does it work? Explain how to do it ?"
   ]
  },
  {
   "cell_type": "markdown",
   "id": "0ec88301",
   "metadata": {},
   "source": [
    "**Ans:** A dendrogram is a diagram that shows the attribute distances between each pair of sequentially merged classes After each merging, the distances between all pairs of classes are updated. The distances at which the signatures of classes are merged are used to construct a dendrogram."
   ]
  },
  {
   "cell_type": "markdown",
   "id": "6b3b649e",
   "metadata": {},
   "source": [
    "### Q. What exactly is SSE? What role does it play in the k-means algorithm ?"
   ]
  },
  {
   "cell_type": "markdown",
   "id": "fa5e6d20",
   "metadata": {},
   "source": [
    "**Ans:** I am going to refer to it as SSE, which stands for Sum of Squared Errors. The regression line is the line made using the function we defined above. To get the SSE we calculate the distance for each of the data points from the regression line then square the it, then we add to the sum.\n",
    "\n",
    "The SSE is defined as the sum of the squared Euclidean distances of each point to its closest centroid. Since this is a measure of error, the objective of k-means is to try to minimize this value. The purpose of this figure is to show  that the initialization of the centroids is an important step."
   ]
  },
  {
   "cell_type": "markdown",
   "id": "54020cf8",
   "metadata": {},
   "source": [
    "### Q8. With a step-by-step algorithm, explain the k-means procedure ?"
   ]
  },
  {
   "cell_type": "markdown",
   "id": "f29accb2",
   "metadata": {},
   "source": [
    "**Ans:** k-means is one of the simplest unsupervised learning algorithms that solve the well known clustering problem. The procedure follows a simple and easy way to classify a given data set through a certain number of clusters (assume k clusters) fixed apriori. The main idea is to define k centers, one for each cluster.\n",
    "\n",
    "- Step 1: Choose the number of clusters k. \n",
    "- Step 2: Select k random points from the data as centroids.\n",
    "- Step 3: Assign all the points to the closest cluster centroid. \n",
    "- Step 4: Recompute the centroids of newly formed clusters.\n",
    "- Step 5: Repeat steps 3 and 4."
   ]
  },
  {
   "cell_type": "markdown",
   "id": "9db681d1",
   "metadata": {},
   "source": [
    "### Q9. In the sense of hierarchical clustering, define the terms single link and complete link ?"
   ]
  },
  {
   "cell_type": "markdown",
   "id": "5567b4bd",
   "metadata": {},
   "source": [
    "**Ans:** In single-link (or single linkage) hierarchical clustering, we merge in each step the two clusters whose two closest members have the smallest distance (or: the two clusters with the smallest minimum pairwise distance). Complete-link clustering can also be described using the concept of clique."
   ]
  },
  {
   "cell_type": "markdown",
   "id": "5b686929",
   "metadata": {},
   "source": [
    "### Q10. How does the apriori concept aid in the reduction of measurement overhead in a business basket analysis? Give an example to demonstrate your point ?"
   ]
  },
  {
   "cell_type": "markdown",
   "id": "fc46ef7d",
   "metadata": {},
   "source": [
    "**Ans:** Apriori algorithm assumes that any subset of a frequent itemset must be frequent. Its the algorithm behind Market Basket Analysis. So, according to the principle of Apriori, if {Grapes, Apple, Mango} is frequent, then {Grapes,Mango} must also be frequent. Here is a dataset consisting of six transactions.\""
   ]
  }
 ],
 "metadata": {
  "kernelspec": {
   "display_name": "Python 3 (ipykernel)",
   "language": "python",
   "name": "python3"
  },
  "language_info": {
   "codemirror_mode": {
    "name": "ipython",
    "version": 3
   },
   "file_extension": ".py",
   "mimetype": "text/x-python",
   "name": "python",
   "nbconvert_exporter": "python",
   "pygments_lexer": "ipython3",
   "version": "3.10.8"
  }
 },
 "nbformat": 4,
 "nbformat_minor": 5
}
